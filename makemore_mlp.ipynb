{
 "cells": [
  {
   "cell_type": "code",
   "execution_count": 247,
   "metadata": {},
   "outputs": [],
   "source": [
    "import torch\n",
    "import torch.nn.functional as F\n",
    "import matplotlib.pyplot as plt"
   ]
  },
  {
   "cell_type": "code",
   "execution_count": 248,
   "metadata": {},
   "outputs": [
    {
     "data": {
      "text/plain": [
       "['emma', 'olivia', 'ava', 'isabella', 'sophia', 'charlotte', 'mia', 'amelia']"
      ]
     },
     "execution_count": 248,
     "metadata": {},
     "output_type": "execute_result"
    }
   ],
   "source": [
    "words = open('names.txt', 'r').read().splitlines()\n",
    "words[:8]"
   ]
  },
  {
   "cell_type": "code",
   "execution_count": 249,
   "metadata": {},
   "outputs": [
    {
     "name": "stdout",
     "output_type": "stream",
     "text": [
      "{'a': 1, 'b': 2, 'c': 3, 'd': 4, 'e': 5, 'f': 6, 'g': 7, 'h': 8, 'i': 9, 'j': 10, 'k': 11, 'l': 12, 'm': 13, 'n': 14, 'o': 15, 'p': 16, 'q': 17, 'r': 18, 's': 19, 't': 20, 'u': 21, 'v': 22, 'w': 23, 'x': 24, 'y': 25, 'z': 26, '.': 0}\n",
      "{1: 'a', 2: 'b', 3: 'c', 4: 'd', 5: 'e', 6: 'f', 7: 'g', 8: 'h', 9: 'i', 10: 'j', 11: 'k', 12: 'l', 13: 'm', 14: 'n', 15: 'o', 16: 'p', 17: 'q', 18: 'r', 19: 's', 20: 't', 21: 'u', 22: 'v', 23: 'w', 24: 'x', 25: 'y', 26: 'z', 0: '.'}\n"
     ]
    }
   ],
   "source": [
    "chars = sorted(list(set(''.join(words))))\n",
    "\n",
    "stoi = {s:i+1 for i,s in enumerate(chars)}\n",
    "stoi['.'] = 0\n",
    "itos = {i:s for s,i in stoi.items()}\n",
    "\n",
    "print(stoi)\n",
    "print(itos)"
   ]
  },
  {
   "cell_type": "markdown",
   "metadata": {},
   "source": [
    "# multilayer perceptron \n",
    "given any consecutive 3 letters of a name, what is the next letter?"
   ]
  },
  {
   "cell_type": "code",
   "execution_count": 250,
   "metadata": {},
   "outputs": [
    {
     "name": "stdout",
     "output_type": "stream",
     "text": [
      "emma\n",
      "... ---> e\n",
      "..e ---> m\n",
      ".em ---> m\n",
      "emm ---> a\n",
      "mma ---> .\n",
      "olivia\n",
      "... ---> o\n",
      "..o ---> l\n",
      ".ol ---> i\n",
      "oli ---> v\n",
      "liv ---> i\n",
      "ivi ---> a\n",
      "via ---> .\n",
      "ava\n",
      "... ---> a\n",
      "..a ---> v\n",
      ".av ---> a\n",
      "ava ---> .\n",
      "isabella\n",
      "... ---> i\n",
      "..i ---> s\n",
      ".is ---> a\n",
      "isa ---> b\n",
      "sab ---> e\n",
      "abe ---> l\n",
      "bel ---> l\n",
      "ell ---> a\n",
      "lla ---> .\n",
      "sophia\n",
      "... ---> s\n",
      "..s ---> o\n",
      ".so ---> p\n",
      "sop ---> h\n",
      "oph ---> i\n",
      "phi ---> a\n",
      "hia ---> .\n"
     ]
    }
   ],
   "source": [
    "block_size = 3 # context length\n",
    "X, Y = [], []\n",
    "\n",
    "for w in words[:5]:\n",
    "    print(w)\n",
    "    context = [0] * block_size # [0,0,0]\n",
    "    for ch in w + '.':\n",
    "        ix = stoi[ch]\n",
    "        Y.append(ix)\n",
    "        X.append(context)\n",
    "        print(''.join(itos[i] for i in context), '--->', itos[ix])\n",
    "        context = context[1:] + [ix]\n",
    "\n",
    "X = torch.tensor(X)\n",
    "Y = torch.tensor(Y)\n"
   ]
  },
  {
   "cell_type": "code",
   "execution_count": 251,
   "metadata": {},
   "outputs": [],
   "source": [
    "emb = C[X]"
   ]
  },
  {
   "cell_type": "code",
   "execution_count": 252,
   "metadata": {},
   "outputs": [
    {
     "data": {
      "text/plain": [
       "tensor([ 5, 13, 13,  1,  0, 15, 12,  9, 22,  9,  1,  0,  1, 22,  1,  0,  9, 19,\n",
       "         1,  2,  5, 12, 12,  1,  0, 19, 15, 16,  8,  9,  1,  0])"
      ]
     },
     "execution_count": 252,
     "metadata": {},
     "output_type": "execute_result"
    }
   ],
   "source": [
    "Y"
   ]
  },
  {
   "cell_type": "code",
   "execution_count": 253,
   "metadata": {},
   "outputs": [
    {
     "data": {
      "text/plain": [
       "(torch.Size([32, 3]), torch.int64, torch.Size([32]), torch.int64)"
      ]
     },
     "execution_count": 253,
     "metadata": {},
     "output_type": "execute_result"
    }
   ],
   "source": [
    "X.shape, X.dtype, Y.shape, Y.dtype"
   ]
  },
  {
   "cell_type": "code",
   "execution_count": 254,
   "metadata": {},
   "outputs": [
    {
     "name": "stdout",
     "output_type": "stream",
     "text": [
      "tensor([ 1.0787, -0.2378])\n",
      "tensor([-0.5419,  0.5163])\n",
      "tensor([[ 1.0787, -0.2378],\n",
      "        [-0.5419,  0.5163]])\n"
     ]
    }
   ],
   "source": [
    "embed_dims = 2\n",
    "\n",
    "\n",
    "# embed into a lower-dimensional space\n",
    "C = torch.randn(27, embed_dims)\n",
    "\n",
    "print(C[1])\n",
    "print(C[2])\n",
    "\n",
    "print(C[[1,2]]) # we can index multiple slices using a list"
   ]
  },
  {
   "cell_type": "code",
   "execution_count": 255,
   "metadata": {},
   "outputs": [
    {
     "name": "stdout",
     "output_type": "stream",
     "text": [
      "tensor([[2, 1]])\n"
     ]
    },
    {
     "data": {
      "text/plain": [
       "tensor([[[-0.5419,  0.5163],\n",
       "         [ 1.0787, -0.2378]]])"
      ]
     },
     "execution_count": 255,
     "metadata": {},
     "output_type": "execute_result"
    }
   ],
   "source": [
    "index = torch.zeros(1,2, dtype=int)\n",
    "index[0][1] = 1\n",
    "index[0][0] = 2\n",
    "print(index)\n",
    "# we can also so multidimensional slices\n",
    "C[index]"
   ]
  },
  {
   "cell_type": "code",
   "execution_count": 256,
   "metadata": {},
   "outputs": [
    {
     "data": {
      "text/plain": [
       "torch.Size([32, 3, 2])"
      ]
     },
     "execution_count": 256,
     "metadata": {},
     "output_type": "execute_result"
    }
   ],
   "source": [
    "# actually convert the words into their embeddings\n",
    "C[X].shape"
   ]
  },
  {
   "cell_type": "code",
   "execution_count": 257,
   "metadata": {},
   "outputs": [
    {
     "data": {
      "text/plain": [
       "tensor(1)"
      ]
     },
     "execution_count": 257,
     "metadata": {},
     "output_type": "execute_result"
    }
   ],
   "source": [
    "X[13, 2] # middle number-for-char of 13th word"
   ]
  },
  {
   "cell_type": "code",
   "execution_count": 258,
   "metadata": {},
   "outputs": [
    {
     "data": {
      "text/plain": [
       "tensor([ 1.0787, -0.2378])"
      ]
     },
     "execution_count": 258,
     "metadata": {},
     "output_type": "execute_result"
    }
   ],
   "source": [
    "C[X][13,2] # get the token for the middle caracter of the 13th word"
   ]
  },
  {
   "cell_type": "code",
   "execution_count": 259,
   "metadata": {},
   "outputs": [
    {
     "data": {
      "text/plain": [
       "tensor([ 1.0787, -0.2378])"
      ]
     },
     "execution_count": 259,
     "metadata": {},
     "output_type": "execute_result"
    }
   ],
   "source": [
    "# verify\n",
    "C[1]"
   ]
  },
  {
   "cell_type": "code",
   "execution_count": 260,
   "metadata": {},
   "outputs": [
    {
     "data": {
      "text/plain": [
       "torch.Size([32, 3, 2])"
      ]
     },
     "execution_count": 260,
     "metadata": {},
     "output_type": "execute_result"
    }
   ],
   "source": [
    "emb = C[X]\n",
    "emb.shape"
   ]
  },
  {
   "cell_type": "code",
   "execution_count": 261,
   "metadata": {},
   "outputs": [],
   "source": [
    "# we have data in the form [token], [token], [token]\n",
    "# where token is [number, number, number]\n",
    "W1 = torch.randn((6, 100))\n",
    "b1 = torch.randn(100)"
   ]
  },
  {
   "cell_type": "code",
   "execution_count": 262,
   "metadata": {},
   "outputs": [
    {
     "data": {
      "text/plain": [
       "tensor([[-0.0493, -0.4886, -0.0493, -0.4886, -0.0493, -0.4886],\n",
       "        [-0.0493, -0.4886, -0.0493, -0.4886, -2.4828, -0.3826],\n",
       "        [-0.0493, -0.4886, -2.4828, -0.3826, -1.7215,  1.2150],\n",
       "        [-2.4828, -0.3826, -1.7215,  1.2150, -1.7215,  1.2150],\n",
       "        [-1.7215,  1.2150, -1.7215,  1.2150,  1.0787, -0.2378],\n",
       "        [-0.0493, -0.4886, -0.0493, -0.4886, -0.0493, -0.4886],\n",
       "        [-0.0493, -0.4886, -0.0493, -0.4886, -1.3835, -1.0959],\n",
       "        [-0.0493, -0.4886, -1.3835, -1.0959, -0.1514, -0.2125],\n",
       "        [-1.3835, -1.0959, -0.1514, -0.2125, -0.7072, -0.6312],\n",
       "        [-0.1514, -0.2125, -0.7072, -0.6312,  0.1454, -0.5118],\n",
       "        [-0.7072, -0.6312,  0.1454, -0.5118, -0.7072, -0.6312],\n",
       "        [ 0.1454, -0.5118, -0.7072, -0.6312,  1.0787, -0.2378],\n",
       "        [-0.0493, -0.4886, -0.0493, -0.4886, -0.0493, -0.4886],\n",
       "        [-0.0493, -0.4886, -0.0493, -0.4886,  1.0787, -0.2378],\n",
       "        [-0.0493, -0.4886,  1.0787, -0.2378,  0.1454, -0.5118],\n",
       "        [ 1.0787, -0.2378,  0.1454, -0.5118,  1.0787, -0.2378],\n",
       "        [-0.0493, -0.4886, -0.0493, -0.4886, -0.0493, -0.4886],\n",
       "        [-0.0493, -0.4886, -0.0493, -0.4886, -0.7072, -0.6312],\n",
       "        [-0.0493, -0.4886, -0.7072, -0.6312,  0.7051, -0.7089],\n",
       "        [-0.7072, -0.6312,  0.7051, -0.7089,  1.0787, -0.2378],\n",
       "        [ 0.7051, -0.7089,  1.0787, -0.2378, -0.5419,  0.5163],\n",
       "        [ 1.0787, -0.2378, -0.5419,  0.5163, -2.4828, -0.3826],\n",
       "        [-0.5419,  0.5163, -2.4828, -0.3826, -0.1514, -0.2125],\n",
       "        [-2.4828, -0.3826, -0.1514, -0.2125, -0.1514, -0.2125],\n",
       "        [-0.1514, -0.2125, -0.1514, -0.2125,  1.0787, -0.2378],\n",
       "        [-0.0493, -0.4886, -0.0493, -0.4886, -0.0493, -0.4886],\n",
       "        [-0.0493, -0.4886, -0.0493, -0.4886,  0.7051, -0.7089],\n",
       "        [-0.0493, -0.4886,  0.7051, -0.7089, -1.3835, -1.0959],\n",
       "        [ 0.7051, -0.7089, -1.3835, -1.0959, -0.3555,  1.4208],\n",
       "        [-1.3835, -1.0959, -0.3555,  1.4208, -0.0674, -1.1555],\n",
       "        [-0.3555,  1.4208, -0.0674, -1.1555, -0.7072, -0.6312],\n",
       "        [-0.0674, -1.1555, -0.7072, -0.6312,  1.0787, -0.2378]])"
      ]
     },
     "execution_count": 262,
     "metadata": {},
     "output_type": "execute_result"
    }
   ],
   "source": [
    "# inefficient flatten method\n",
    "# flatten the three tokens [A,B, C] into [a,a,b,b,c,c]\n",
    "# current structure:[  (dim1-column)\n",
    "# [[aa],[bb],[cc]]\n",
    "# [[aa],[bb],[cc]]\n",
    "# ...\n",
    "# [[aa],[bb],[cc]]\n",
    "#]\n",
    "# Goal:[\n",
    "# [aabbcc]\n",
    "# [aabbcc]\n",
    "# ...\n",
    "# [aabbcc]\n",
    "#]\n",
    "\n",
    "# achieve by: for each element in dim1, concatenate\n",
    "# ie concat along dim2\n",
    "# end shape: (32,6)\n",
    "\n",
    "torch.unbind(emb, 1)\n",
    "# this returns data in the format:\n",
    "# (\n",
    "# [[aa], [aa], [aa], ..., [aa]] -> this dimension is which word\n",
    "# [[bb], [bb], [bb], ..., [bb]] -> this dimension is which word\n",
    "# [[cc], [cc], [cc], ..., [cc]] -> this dimension is which word\n",
    "# )\n",
    "\n",
    "# now we need to call cat. \n",
    "# if we concatenated along dimension 0 (default), we would just\n",
    "# make something like [[aa][aa]...[bb][bb]...[cc][cc]]\n",
    "# this wouldn't be separated into words.\n",
    "# instead we want to concatenate along dimension 1\n",
    "# so we get a list of [w1[aabbcc], w2[aabbcc],...]\n",
    "torch.cat(torch.unbind(emb, 1), 1)\n",
    "\n"
   ]
  },
  {
   "cell_type": "code",
   "execution_count": 263,
   "metadata": {},
   "outputs": [
    {
     "data": {
      "text/plain": [
       "tensor([[[ 0,  1],\n",
       "         [ 2,  3],\n",
       "         [ 4,  5]],\n",
       "\n",
       "        [[ 6,  7],\n",
       "         [ 8,  9],\n",
       "         [10, 11]],\n",
       "\n",
       "        [[12, 13],\n",
       "         [14, 15],\n",
       "         [16, 17]]])"
      ]
     },
     "execution_count": 263,
     "metadata": {},
     "output_type": "execute_result"
    }
   ],
   "source": [
    "a = torch.arange(18)\n",
    "a # [0,1,2,...]\n",
    "a.view(2,9) # [[0-8], [9-17]]\n",
    "a.view(3,3,2)"
   ]
  },
  {
   "cell_type": "code",
   "execution_count": 264,
   "metadata": {},
   "outputs": [
    {
     "data": {
      "text/plain": [
       " 0\n",
       " 1\n",
       " 2\n",
       " 3\n",
       " 4\n",
       " 5\n",
       " 6\n",
       " 7\n",
       " 8\n",
       " 9\n",
       " 10\n",
       " 11\n",
       " 12\n",
       " 13\n",
       " 14\n",
       " 15\n",
       " 16\n",
       " 17\n",
       "[torch.storage.TypedStorage(dtype=torch.int64, device=cpu) of size 18]"
      ]
     },
     "execution_count": 264,
     "metadata": {},
     "output_type": "execute_result"
    }
   ],
   "source": [
    "a.storage() # everythin is a 1d tensor, view just changes how we see it\n"
   ]
  },
  {
   "cell_type": "code",
   "execution_count": 265,
   "metadata": {},
   "outputs": [
    {
     "name": "stdout",
     "output_type": "stream",
     "text": [
      "torch.Size([32, 3, 2])\n"
     ]
    }
   ],
   "source": [
    "# more efficient way to flatten\n",
    "print(emb.shape)"
   ]
  },
  {
   "cell_type": "code",
   "execution_count": 266,
   "metadata": {},
   "outputs": [
    {
     "data": {
      "text/plain": [
       "torch.Size([32, 100])"
      ]
     },
     "execution_count": 266,
     "metadata": {},
     "output_type": "execute_result"
    }
   ],
   "source": [
    "# real conv layer\n",
    "W1 = torch.randn((6,100))\n",
    "b1 = torch.randn(100)\n",
    "h = torch.tanh(emb.view(-1,6) @ W1 + b1) #-1 means infer size\n",
    "h.shape # hidden layers"
   ]
  },
  {
   "cell_type": "code",
   "execution_count": 267,
   "metadata": {},
   "outputs": [],
   "source": [
    "W2 = torch.randn((100, 27))\n",
    "b2 = torch.randn(27)"
   ]
  },
  {
   "cell_type": "code",
   "execution_count": 268,
   "metadata": {},
   "outputs": [],
   "source": [
    "logits = (h @ W2 + b2)"
   ]
  },
  {
   "cell_type": "code",
   "execution_count": 269,
   "metadata": {},
   "outputs": [
    {
     "data": {
      "text/plain": [
       "torch.Size([32, 27])"
      ]
     },
     "execution_count": 269,
     "metadata": {},
     "output_type": "execute_result"
    }
   ],
   "source": [
    "logits.shape"
   ]
  },
  {
   "cell_type": "code",
   "execution_count": 270,
   "metadata": {},
   "outputs": [],
   "source": [
    "counts = logits.exp()\n",
    "prob = counts/counts.sum(1, keepdims=True)"
   ]
  },
  {
   "cell_type": "code",
   "execution_count": 271,
   "metadata": {},
   "outputs": [
    {
     "data": {
      "text/plain": [
       "tensor(1.0000)"
      ]
     },
     "execution_count": 271,
     "metadata": {},
     "output_type": "execute_result"
    }
   ],
   "source": [
    "prob[0].sum()"
   ]
  },
  {
   "cell_type": "code",
   "execution_count": 272,
   "metadata": {},
   "outputs": [
    {
     "data": {
      "text/plain": [
       "tensor([ 5, 13, 13,  1,  0, 15, 12,  9, 22,  9,  1,  0,  1, 22,  1,  0,  9, 19,\n",
       "         1,  2,  5, 12, 12,  1,  0, 19, 15, 16,  8,  9,  1,  0])"
      ]
     },
     "execution_count": 272,
     "metadata": {},
     "output_type": "execute_result"
    }
   ],
   "source": [
    "Y"
   ]
  },
  {
   "cell_type": "code",
   "execution_count": 273,
   "metadata": {},
   "outputs": [
    {
     "data": {
      "text/plain": [
       "tensor(13.1137)"
      ]
     },
     "execution_count": 273,
     "metadata": {},
     "output_type": "execute_result"
    }
   ],
   "source": [
    "loss = -prob[torch.arange(32), Y].log().mean()\n",
    "loss"
   ]
  },
  {
   "cell_type": "markdown",
   "metadata": {},
   "source": [
    "# More Respectable :)"
   ]
  },
  {
   "cell_type": "code",
   "execution_count": 274,
   "metadata": {},
   "outputs": [],
   "source": [
    "block_size = 3 # context length\n",
    "X, Y = [], []\n",
    "\n",
    "for w in words:\n",
    "    context = [0] * block_size # [0,0,0]\n",
    "    for ch in w + '.':\n",
    "        ix = stoi[ch]\n",
    "        Y.append(ix)\n",
    "        X.append(context)\n",
    "        context = context[1:] + [ix]\n",
    "\n",
    "X = torch.tensor(X)\n",
    "Y = torch.tensor(Y)\n"
   ]
  },
  {
   "cell_type": "code",
   "execution_count": 275,
   "metadata": {},
   "outputs": [
    {
     "data": {
      "text/plain": [
       "(torch.Size([228146, 3]), torch.Size([228146]))"
      ]
     },
     "execution_count": 275,
     "metadata": {},
     "output_type": "execute_result"
    }
   ],
   "source": [
    "X.shape, Y.shape"
   ]
  },
  {
   "cell_type": "code",
   "execution_count": 276,
   "metadata": {},
   "outputs": [],
   "source": [
    "C = torch.randn((27,2)) # letters to embeddings\n",
    "W1 = torch.randn((6, 100))\n",
    "b1 = torch.randn(100)\n",
    "W2 = torch.randn((100, 27))\n",
    "b2 = torch.randn(27)\n",
    "\n",
    "parameters = [C, W1, b1, W2, b2]"
   ]
  },
  {
   "cell_type": "code",
   "execution_count": 277,
   "metadata": {},
   "outputs": [
    {
     "data": {
      "text/plain": [
       "3481"
      ]
     },
     "execution_count": 277,
     "metadata": {},
     "output_type": "execute_result"
    }
   ],
   "source": [
    "sum(p.nelement() for p in parameters) # number of parameters"
   ]
  },
  {
   "cell_type": "code",
   "execution_count": 278,
   "metadata": {},
   "outputs": [],
   "source": [
    "for p in parameters:\n",
    "    p.requires_grad = True"
   ]
  },
  {
   "cell_type": "code",
   "execution_count": 279,
   "metadata": {},
   "outputs": [],
   "source": [
    "lre = torch.linspace(-3, 0, 1000)\n",
    "lrs = 10 ** lre # exponential spacing (idk why)"
   ]
  },
  {
   "cell_type": "code",
   "execution_count": 280,
   "metadata": {},
   "outputs": [
    {
     "name": "stdout",
     "output_type": "stream",
     "text": [
      "2.431138038635254\n"
     ]
    }
   ],
   "source": [
    "lri =[]\n",
    "lossi = []\n",
    "\n",
    "for i in range(10000):\n",
    "\n",
    "    # minibatch construct\n",
    "    ix = torch.randint(0,X.shape[0],(32,)) #32 integers that index into dataset\n",
    "\n",
    "\n",
    "    # forward pass\n",
    "    emb = C[X[ix]] # embed to tokens (32, 3, 2). Only use minibatch\n",
    "    h = torch.tanh(emb.view(-1, 6) @ W1 + b1) #(32, 100)\n",
    "    logits = h @ W2 + b2 # (32, 27)\n",
    "    loss = F.cross_entropy(logits, Y[ix]) # shortcut for commented code above. Use minibatch added too\n",
    "\n",
    "    # backward pass\n",
    "    for p in parameters:\n",
    "        p.grad= None\n",
    "\n",
    "    loss.backward()\n",
    "    # update\n",
    "    lr = 0.01\n",
    "    for p in parameters:\n",
    "        p.data += -lr * p.grad\n",
    "\n",
    "    # track learning rate stats\n",
    "    # lri.append(lr)\n",
    "    # lossi.append(loss.item())\n",
    "\n",
    "print(loss.item())"
   ]
  },
  {
   "cell_type": "code",
   "execution_count": 281,
   "metadata": {},
   "outputs": [],
   "source": [
    "# plt.plot(lre, lossi)# .1 is a good leaerning rate"
   ]
  },
  {
   "cell_type": "code",
   "execution_count": 282,
   "metadata": {},
   "outputs": [
    {
     "name": "stdout",
     "output_type": "stream",
     "text": [
      "2.5307815074920654\n"
     ]
    }
   ],
   "source": [
    "\n",
    "emb = C[X] # embed to tokens (32, 3, 2). Only use minibatch\n",
    "h = torch.tanh(emb.view(-1, 6) @ W1 + b1) #(32, 100)\n",
    "logits = h @ W2 + b2 # (32, 27)\n",
    "loss = F.cross_entropy(logits, Y) # shortcut for commented code above. Use minibatch added too\n",
    "print(loss.item())"
   ]
  },
  {
   "cell_type": "code",
   "execution_count": 283,
   "metadata": {},
   "outputs": [
    {
     "name": "stdout",
     "output_type": "stream",
     "text": [
      "oyacesahay\n",
      "mrorloa\n",
      "aofle\n",
      "bmenrerc\n",
      "jjikaa\n",
      "drcinhunie\n",
      "jien\n",
      "late\n",
      "than\n",
      "sea\n"
     ]
    }
   ],
   "source": [
    "# now let's generate some names\n",
    "def generate():\n",
    "    context = torch.tensor([0,0,0])\n",
    "    out = []\n",
    "    for _ in range(10):\n",
    "        # get the last 3 characters of the context\n",
    "        contextview = context.view(1,3)\n",
    "        emb = C[context]\n",
    "        h = torch.tanh(emb.view(1, 6) @ W1 + b1)\n",
    "        logits = h @ W2 + b2\n",
    "        prob = F.softmax(logits, 1)\n",
    "        nextchar = torch.multinomial(prob, 1).item()\n",
    "        if nextchar == 0: break\n",
    "        out.append(nextchar)\n",
    "        context = torch.cat([context[1:], torch.tensor([nextchar])])\n",
    "    return ''.join(itos[i] for i in out)\n",
    "\n",
    "\n",
    "for _ in range(10):\n",
    "    print(generate())"
   ]
  },
  {
   "cell_type": "markdown",
   "metadata": {},
   "source": [
    "# More Scientific Code"
   ]
  },
  {
   "cell_type": "code",
   "execution_count": 284,
   "metadata": {},
   "outputs": [],
   "source": [
    "# training split, dev/validation split, test split\n",
    "# 80%, 10%, 10%\n"
   ]
  },
  {
   "cell_type": "code",
   "execution_count": 288,
   "metadata": {},
   "outputs": [
    {
     "data": {
      "text/plain": [
       "['emma', 'olivia', 'ava', 'isabella', 'sophia', 'charlotte', 'mia', 'amelia']"
      ]
     },
     "execution_count": 288,
     "metadata": {},
     "output_type": "execute_result"
    }
   ],
   "source": [
    "words = open('names.txt', 'r').read().splitlines()\n",
    "words[:8]"
   ]
  },
  {
   "cell_type": "code",
   "execution_count": 286,
   "metadata": {},
   "outputs": [
    {
     "name": "stdout",
     "output_type": "stream",
     "text": [
      "emma\n",
      ".... ---> e\n",
      "...e ---> m\n",
      "..em ---> m\n",
      ".emm ---> a\n",
      "emma ---> .\n",
      "olivia\n",
      ".... ---> o\n",
      "...o ---> l\n",
      "..ol ---> i\n",
      ".oli ---> v\n",
      "oliv ---> i\n",
      "livi ---> a\n",
      "ivia ---> .\n",
      "ava\n",
      ".... ---> a\n",
      "...a ---> v\n",
      "..av ---> a\n",
      ".ava ---> .\n",
      "isabella\n",
      ".... ---> i\n",
      "...i ---> s\n",
      "..is ---> a\n",
      ".isa ---> b\n",
      "isab ---> e\n",
      "sabe ---> l\n",
      "abel ---> l\n",
      "bell ---> a\n",
      "ella ---> .\n",
      "sophia\n",
      ".... ---> s\n",
      "...s ---> o\n",
      "..so ---> p\n",
      ".sop ---> h\n",
      "soph ---> i\n",
      "ophi ---> a\n",
      "phia ---> .\n"
     ]
    }
   ],
   "source": [
    "block_size = 4 # context length\n",
    "X, Y = [], []\n",
    "\n",
    "for w in words[:5]:\n",
    "    print(w)\n",
    "    context = [0] * block_size # [0,0,0]\n",
    "    for ch in w + '.':\n",
    "        ix = stoi[ch]\n",
    "        Y.append(ix)\n",
    "        X.append(context)\n",
    "        print(''.join(itos[i] for i in context), '--->', itos[ix])\n",
    "        context = context[1:] + [ix]\n",
    "\n",
    "X = torch.tensor(X)\n",
    "Y = torch.tensor(Y)\n"
   ]
  },
  {
   "cell_type": "code",
   "execution_count": 287,
   "metadata": {},
   "outputs": [],
   "source": [
    "def build_dataset(words):\n",
    "    block_size = 4 # context length\n",
    "    X, Y = [], []\n",
    "    for w in words:\n",
    "        context = [0] * block_size # [0,0,0]\n",
    "        for ch in w + '.':\n",
    "            ix = stoi[ch]\n",
    "            Y.append(ix)\n",
    "            X.append(context)\n",
    "            context = context[1:] + [ix]\n",
    "    return torch.tensor(X), torch.tensor(Y)\n",
    "\n",
    "import random\n",
    "random.seed(42)\n",
    "random.shuffle(words)\n",
    "n1 = int(0.8 * len(words))\n",
    "n2 = int(0.9 * len(words))\n",
    "\n",
    "Xtr, Ytr = build_dataset(words[:n1])\n",
    "Xdev, Ydev = build_dataset(words[n1:n2])\n",
    "Xte, Yte = build_dataset(words[n2:])\n",
    "\n"
   ]
  },
  {
   "cell_type": "code",
   "execution_count": 289,
   "metadata": {},
   "outputs": [],
   "source": [
    "C = torch.randn((27,10)) # letters to embeddings\n",
    "W1 = torch.randn((40, 170))\n",
    "b1 = torch.randn(170)\n",
    "W2 = torch.randn((170, 27))\n",
    "b2 = torch.randn(27)\n",
    "\n",
    "parameters = [C, W1, b1, W2, b2]"
   ]
  },
  {
   "cell_type": "code",
   "execution_count": 290,
   "metadata": {},
   "outputs": [],
   "source": [
    "for p in parameters:\n",
    "    p.requires_grad = True"
   ]
  },
  {
   "cell_type": "code",
   "execution_count": 291,
   "metadata": {},
   "outputs": [],
   "source": [
    "lre = torch.linspace(-3, 0, 1000)\n",
    "lrs = 10 ** lre # exponential spacing (idk why)"
   ]
  },
  {
   "cell_type": "code",
   "execution_count": 292,
   "metadata": {},
   "outputs": [],
   "source": [
    "lri = []\n",
    "lossi = []\n",
    "stepi = []"
   ]
  },
  {
   "cell_type": "code",
   "execution_count": 307,
   "metadata": {},
   "outputs": [],
   "source": [
    "\n",
    "for i in range(100000):\n",
    "    \n",
    "        # minibatch construct\n",
    "        ix = torch.randint(0,Xtr.shape[0],(32,)) #32 integers that index into dataset\n",
    "    \n",
    "    \n",
    "        # forward pass\n",
    "        emb = C[Xtr[ix]] # embed to tokens (32, 3, 2). Only use minibatch\n",
    "        h = torch.tanh(emb.view(-1, 40) @ W1 + b1) #(32, 100)\n",
    "        logits = h @ W2 + b2 # (32, 27)\n",
    "        loss = F.cross_entropy(logits, Ytr[ix]) # shortcut for commented code above. Use minibatch added too\n",
    "    \n",
    "        # backward pass\n",
    "        for p in parameters:\n",
    "            p.grad= None\n",
    "    \n",
    "        loss.backward()\n",
    "        # update\n",
    "        lr = 0.01\n",
    "        for p in parameters:\n",
    "            p.data += -lr * p.grad\n",
    "    \n",
    "        # track learning rate stats\n",
    "        # lri.append(lr)\n",
    "        lossi.append(loss.log10().item())\n",
    "        stepi.append(i)"
   ]
  },
  {
   "cell_type": "code",
   "execution_count": 308,
   "metadata": {},
   "outputs": [
    {
     "data": {
      "text/plain": [
       "[<matplotlib.lines.Line2D at 0x169f0bdc0>]"
      ]
     },
     "execution_count": 308,
     "metadata": {},
     "output_type": "execute_result"
    },
    {
     "data": {
      "image/png": "[encoded data removed]",
      "text/plain": [
       "<Figure size 640x480 with 1 Axes>"
      ]
     },
     "metadata": {},
     "output_type": "display_data"
    }
   ],
   "source": [
    "plt.plot(stepi, lossi)"
   ]
  },
  {
   "cell_type": "code",
   "execution_count": 309,
   "metadata": {},
   "outputs": [
    {
     "name": "stdout",
     "output_type": "stream",
     "text": [
      "1.8625669479370117\n"
     ]
    }
   ],
   "source": [
    "print(loss.item())"
   ]
  },
  {
   "cell_type": "code",
   "execution_count": 310,
   "metadata": {},
   "outputs": [
    {
     "name": "stdout",
     "output_type": "stream",
     "text": [
      "torch.Size([22655, 4, 10])\n",
      "2.101008892059326\n"
     ]
    }
   ],
   "source": [
    "# evaluate on dev set\n",
    "emb = C[Xdev] # embed devset to tokens\n",
    "print(emb.shape)\n",
    "h = torch.tanh(emb.view(-1, 40) @ W1 + b1) \n",
    "logits = h @ W2 + b2\n",
    "loss = F.cross_entropy(logits, Ydev)\n",
    "print(loss.item())\n",
    "\n"
   ]
  },
  {
   "cell_type": "code",
   "execution_count": 237,
   "metadata": {},
   "outputs": [],
   "source": [
    "# only works with 2d vectors\n",
    "# plt.figure(figsize=(8,8))\n",
    "# plt.scatter(C[:,0].data, C[:,1].data, s=200)\n",
    "# for i in range(C.shape[0]):# for each letter\n",
    "#     plt.text(C[i,0].item(), C[i,1].item(), itos[i], ha='center', va='center')\n",
    "# plt.grid('minor')\n"
   ]
  },
  {
   "cell_type": "code",
   "execution_count": 317,
   "metadata": {},
   "outputs": [
    {
     "name": "stdout",
     "output_type": "stream",
     "text": [
      "ainaldyn\n",
      "zalie\n",
      "yaya\n",
      "elle\n",
      "marial\n",
      "zomi\n",
      "vildi\n",
      "kerp\n",
      "styn\n",
      "yeshaides\n"
     ]
    }
   ],
   "source": [
    "# now let's generate some names\n",
    "def generate():\n",
    "    context = torch.tensor([0,0,0,0])\n",
    "    out = []\n",
    "    for _ in range(10):\n",
    "        # get the last 4 characters of the context\n",
    "        contextview = context.view(1,4)\n",
    "        emb = C[context]\n",
    "        h = torch.tanh(emb.view(1, 40) @ W1 + b1)\n",
    "        logits = h @ W2 + b2\n",
    "        prob = F.softmax(logits, 1)\n",
    "        nextchar = torch.multinomial(prob, 1).item()\n",
    "        if nextchar == 0: break\n",
    "        out.append(nextchar)\n",
    "        context = torch.cat([context[1:], torch.tensor([nextchar])])\n",
    "    return ''.join(itos[i] for i in out)\n",
    "\n",
    "\n",
    "for _ in range(10):\n",
    "    print(generate())"
   ]
  }
 ],
 "metadata": {
  "kernelspec": {
   "display_name": ".venv",
   "language": "python",
   "name": "python3"
  },
  "language_info": {
   "codemirror_mode": {
    "name": "ipython",
    "version": 3
   },
   "file_extension": ".py",
   "mimetype": "text/x-python",
   "name": "python",
   "nbconvert_exporter": "python",
   "pygments_lexer": "ipython3",
   "version": "3.9.6"
  }
 },
 "nbformat": 4,
 "nbformat_minor": 2
}
