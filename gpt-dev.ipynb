{
 "cells": [
  {
   "cell_type": "code",
   "execution_count": 11,
   "metadata": {},
   "outputs": [
    {
     "name": "stdout",
     "output_type": "stream",
     "text": [
      "URL transformed to HTTPS due to an HSTS policy\n",
      "--2024-02-21 05:09:23--  https://raw.githubusercontent.com/karpathy/char-rnn/master/data/tinyshakespeare/input.txt\n",
      "Resolving raw.githubusercontent.com (raw.githubusercontent.com)... 185.199.111.133, 185.199.108.133, 185.199.110.133, ...\n",
      "Connecting to raw.githubusercontent.com (raw.githubusercontent.com)|185.199.111.133|:443... connected.\n",
      "HTTP request sent, awaiting response... 200 OK\n",
      "Length: 1115394 (1.1M) [text/plain]\n",
      "Saving to: ‘input.txt.2’\n",
      "\n",
      "input.txt.2         100%[===================>]   1.06M  --.-KB/s    in 0.05s   \n",
      "\n",
      "2024-02-21 05:09:24 (20.7 MB/s) - ‘input.txt.2’ saved [1115394/1115394]\n",
      "\n"
     ]
    }
   ],
   "source": [
    "!wget raw.githubusercontent.com/karpathy/char-rnn/master/data/tinyshakespeare/input.txt"
   ]
  },
  {
   "cell_type": "code",
   "execution_count": 12,
   "metadata": {},
   "outputs": [],
   "source": [
    "with open('input.txt', 'r') as file:\n",
    "    text_data = file.read()"
   ]
  },
  {
   "cell_type": "code",
   "execution_count": 13,
   "metadata": {},
   "outputs": [
    {
     "name": "stdout",
     "output_type": "stream",
     "text": [
      "First Citizen:\n",
      "Before we proceed any further, hear me speak.\n",
      "\n",
      "All:\n",
      "Speak, speak.\n",
      "\n",
      "First Citizen:\n",
      "You are all resolved rather to die than to famish?\n",
      "\n",
      "All:\n",
      "Resolved. resolved.\n",
      "\n",
      "First Citizen:\n",
      "First, you know Caius Marcius is chief enemy to the people.\n",
      "\n",
      "All:\n",
      "We know't, we know't.\n",
      "\n",
      "First Citizen:\n",
      "Let us kill him, and we'll have corn at our own price.\n",
      "Is't a verdict?\n",
      "\n",
      "All:\n",
      "No more talking on't; let it be done: away, away!\n",
      "\n",
      "Second Citizen:\n",
      "One word, good citizens.\n",
      "\n",
      "First Citizen:\n",
      "We are accounted poor citizens, the patricians good.\n",
      "What authority surfeits on would relieve us: if they\n",
      "would yield us but the superfluity, while it were\n",
      "wholesome, we might guess they relieved us humanely;\n",
      "but they think we are too dear: the leanness that\n",
      "afflicts us, the object of our misery, is as an\n",
      "inventory to particularise their abundance; our\n",
      "sufferance is a gain to them Let us revenge this with\n",
      "our pikes, ere we become rakes: for the gods know I\n",
      "speak this in hunger for bread, not in thirst for revenge.\n",
      "\n",
      "\n"
     ]
    }
   ],
   "source": [
    "print(text_data[:1000])"
   ]
  },
  {
   "cell_type": "code",
   "execution_count": 14,
   "metadata": {},
   "outputs": [
    {
     "name": "stdout",
     "output_type": "stream",
     "text": [
      "1115394\n"
     ]
    }
   ],
   "source": [
    "print(len(text_data))\n",
    "\n"
   ]
  },
  {
   "cell_type": "code",
   "execution_count": 15,
   "metadata": {},
   "outputs": [
    {
     "name": "stdout",
     "output_type": "stream",
     "text": [
      "\n",
      " !$&',-.3:;?ABCDEFGHIJKLMNOPQRSTUVWXYZabcdefghijklmnopqrstuvwxyz\n",
      "65\n"
     ]
    }
   ],
   "source": [
    "# get the unique text characters\n",
    "unique_chars = sorted(list(set(text_data)))\n",
    "\n",
    "vocab_size = len(unique_chars)\n",
    "# join the unique characters to form a string\n",
    "unique_chars = ''.join(unique_chars)\n",
    "print(unique_chars)\n",
    "print(vocab_size)\n"
   ]
  },
  {
   "cell_type": "code",
   "execution_count": 16,
   "metadata": {},
   "outputs": [
    {
     "name": "stdout",
     "output_type": "stream",
     "text": [
      "[46, 43, 50, 50, 53, 6, 1, 61, 53, 56, 50, 42, 2]\n",
      "hello, world!\n"
     ]
    }
   ],
   "source": [
    "# encoder and decoder\n",
    "\n",
    "def encode_text(text):\n",
    "    return [unique_chars.index(c) for c in text]\n",
    "\n",
    "def decode_text(codes):\n",
    "    return ''.join(unique_chars[c] for c in codes)\n",
    "\n",
    "print(encode_text('hello, world!'))\n",
    "print(decode_text(encode_text('hello, world!')))\n"
   ]
  },
  {
   "cell_type": "code",
   "execution_count": 17,
   "metadata": {},
   "outputs": [
    {
     "name": "stdout",
     "output_type": "stream",
     "text": [
      "torch.Size([1115394]) torch.int64\n",
      "tensor([18, 47, 56, 57, 58,  1, 15, 47, 58, 47, 64, 43, 52, 10,  0, 14, 43, 44,\n",
      "        53, 56, 43,  1, 61, 43,  1, 54, 56, 53, 41, 43, 43, 42,  1, 39, 52, 63,\n",
      "         1, 44, 59, 56, 58, 46, 43, 56,  6,  1, 46, 43, 39, 56,  1, 51, 43,  1,\n",
      "        57, 54, 43, 39, 49,  8,  0,  0, 13, 50, 50, 10,  0, 31, 54, 43, 39, 49,\n",
      "         6,  1, 57, 54, 43, 39, 49,  8,  0,  0, 18, 47, 56, 57, 58,  1, 15, 47,\n",
      "        58, 47, 64, 43, 52, 10,  0, 37, 53, 59])\n"
     ]
    }
   ],
   "source": [
    "import torch\n",
    "data = torch.tensor(encode_text(text_data), dtype=torch.long)\n",
    "print(data.shape, data.dtype)\n",
    "print(str(data[:100]))\n"
   ]
  },
  {
   "cell_type": "code",
   "execution_count": 18,
   "metadata": {},
   "outputs": [],
   "source": [
    "# split into train and validate\n",
    "split_index = int(len(data) * 0.9)\n",
    "train_data = data[:split_index]\n",
    "validate_data = data[split_index:]"
   ]
  },
  {
   "cell_type": "markdown",
   "metadata": {},
   "source": [
    "the train_data that we run on needs to be 1 bigger than the block_size because within transformer training, each element is used to predict the next element. So, from the 8th element, we need to predict the 9th. Thus, for 8 training datapoints, we need 9 datapoints."
   ]
  },
  {
   "cell_type": "code",
   "execution_count": 19,
   "metadata": {},
   "outputs": [
    {
     "data": {
      "text/plain": [
       "tensor([18, 47, 56, 57, 58,  1, 15, 47, 58])"
      ]
     },
     "execution_count": 19,
     "metadata": {},
     "output_type": "execute_result"
    }
   ],
   "source": [
    "block_size=8\n",
    "train_data[:block_size+1]"
   ]
  },
  {
   "cell_type": "code",
   "execution_count": 20,
   "metadata": {},
   "outputs": [
    {
     "name": "stdout",
     "output_type": "stream",
     "text": [
      "tensor([18, 47, 56, 57, 58,  1, 15, 47])\n",
      "tensor([47, 56, 57, 58,  1, 15, 47, 58])\n",
      "when input is tensor([18]) then target is 47\n",
      "when input is tensor([18, 47]) then target is 56\n",
      "when input is tensor([18, 47, 56]) then target is 57\n",
      "when input is tensor([18, 47, 56, 57]) then target is 58\n",
      "when input is tensor([18, 47, 56, 57, 58]) then target is 1\n",
      "when input is tensor([18, 47, 56, 57, 58,  1]) then target is 15\n",
      "when input is tensor([18, 47, 56, 57, 58,  1, 15]) then target is 47\n",
      "when input is tensor([18, 47, 56, 57, 58,  1, 15, 47]) then target is 58\n"
     ]
    }
   ],
   "source": [
    "x = train_data[:block_size]\n",
    "y = train_data[1:block_size+1]\n",
    "print(x)\n",
    "print(y)\n",
    "for t in range(block_size):\n",
    "    context = x[:t+1]\n",
    "    target = y[t]\n",
    "    print(f\"when input is {context} then target is {target}\")\n",
    "\n"
   ]
  },
  {
   "cell_type": "code",
   "execution_count": 24,
   "metadata": {},
   "outputs": [
    {
     "name": "stdout",
     "output_type": "stream",
     "text": [
      "inputs:\n",
      "tensor([[24, 43, 58,  5, 57,  1, 46, 43],\n",
      "        [44, 53, 56,  1, 58, 46, 39, 58],\n",
      "        [52, 58,  1, 58, 46, 39, 58,  1],\n",
      "        [25, 17, 27, 10,  0, 21,  1, 54]])\n",
      "torch.Size([4, 8])\n",
      "targets:\n",
      "tensor([[43, 58,  5, 57,  1, 46, 43, 39],\n",
      "        [53, 56,  1, 58, 46, 39, 58,  1],\n",
      "        [58,  1, 58, 46, 39, 58,  1, 46],\n",
      "        [17, 27, 10,  0, 21,  1, 54, 39]])\n",
      "torch.Size([4, 8])\n",
      "when input is tensor([24]) then target is 43\n",
      "when input is tensor([24, 43]) then target is 58\n",
      "when input is tensor([24, 43, 58]) then target is 5\n",
      "when input is tensor([24, 43, 58,  5]) then target is 57\n",
      "when input is tensor([24, 43, 58,  5, 57]) then target is 1\n",
      "when input is tensor([24, 43, 58,  5, 57,  1]) then target is 46\n",
      "when input is tensor([24, 43, 58,  5, 57,  1, 46]) then target is 43\n",
      "when input is tensor([24, 43, 58,  5, 57,  1, 46, 43]) then target is 39\n",
      "when input is tensor([44]) then target is 53\n",
      "when input is tensor([44, 53]) then target is 56\n",
      "when input is tensor([44, 53, 56]) then target is 1\n",
      "when input is tensor([44, 53, 56,  1]) then target is 58\n",
      "when input is tensor([44, 53, 56,  1, 58]) then target is 46\n",
      "when input is tensor([44, 53, 56,  1, 58, 46]) then target is 39\n",
      "when input is tensor([44, 53, 56,  1, 58, 46, 39]) then target is 58\n",
      "when input is tensor([44, 53, 56,  1, 58, 46, 39, 58]) then target is 1\n",
      "when input is tensor([52]) then target is 58\n",
      "when input is tensor([52, 58]) then target is 1\n",
      "when input is tensor([52, 58,  1]) then target is 58\n",
      "when input is tensor([52, 58,  1, 58]) then target is 46\n",
      "when input is tensor([52, 58,  1, 58, 46]) then target is 39\n",
      "when input is tensor([52, 58,  1, 58, 46, 39]) then target is 58\n",
      "when input is tensor([52, 58,  1, 58, 46, 39, 58]) then target is 1\n",
      "when input is tensor([52, 58,  1, 58, 46, 39, 58,  1]) then target is 46\n",
      "when input is tensor([25]) then target is 17\n",
      "when input is tensor([25, 17]) then target is 27\n",
      "when input is tensor([25, 17, 27]) then target is 10\n",
      "when input is tensor([25, 17, 27, 10]) then target is 0\n",
      "when input is tensor([25, 17, 27, 10,  0]) then target is 21\n",
      "when input is tensor([25, 17, 27, 10,  0, 21]) then target is 1\n",
      "when input is tensor([25, 17, 27, 10,  0, 21,  1]) then target is 54\n",
      "when input is tensor([25, 17, 27, 10,  0, 21,  1, 54]) then target is 39\n"
     ]
    }
   ],
   "source": [
    "torch.manual_seed(1337)\n",
    "batch_size=4# how many independent sequences are processed in parallel\n",
    "block_size=8# what is the maximum context length for predictions?\n",
    "\n",
    "def get_batch(split):\n",
    "    data = train_data if split == 'train' else validate_data\n",
    "    # generate (batch_size) random starting indices for the sequences.\n",
    "    starts = torch.randint(len(data)-block_size, (batch_size,))\n",
    "    # get the data for each of the (batch_size) sequences\n",
    "    batch = torch.stack([data[i:i+block_size] for i in starts])\n",
    "    batch_offset = torch.stack([data[i+1:i+1+block_size] for i in starts])\n",
    "    return batch, batch_offset\n",
    "\n",
    "batch, batch_offset = get_batch('train')\n",
    "print(\"inputs:\")\n",
    "print(batch)\n",
    "print(batch.shape)\n",
    "print(\"targets:\")\n",
    "print(batch_offset)\n",
    "print(batch_offset.shape)\n",
    "\n",
    "for b in range(batch_size): # batch dimension\n",
    "    for t in range(block_size): # time dimension\n",
    "        context = batch[b, 0:t+1]\n",
    "        target = batch_offset[b, t]\n",
    "        print(f\"when input is {context} then target is {target}\")\n"
   ]
  },
  {
   "cell_type": "code",
   "execution_count": null,
   "metadata": {},
   "outputs": [],
   "source": [
    "tensor([[24, 43, 58,  5, 57,  1, 46, 43],\n",
    "        [44, 53, 56,  1, 58, 46, 39, 58],\n",
    "        [52, 58,  1, 58, 46, 39, 58,  1],\n",
    "        [25, 17, 27, 10,  0, 21,  1, 54]])"
   ]
  }
 ],
 "metadata": {
  "kernelspec": {
   "display_name": "Python 3",
   "language": "python",
   "name": "python3"
  },
  "language_info": {
   "codemirror_mode": {
    "name": "ipython",
    "version": 3
   },
   "file_extension": ".py",
   "mimetype": "text/x-python",
   "name": "python",
   "nbconvert_exporter": "python",
   "pygments_lexer": "ipython3",
   "version": "3.10.13"
  }
 },
 "nbformat": 4,
 "nbformat_minor": 2
}
